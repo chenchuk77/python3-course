{
 "cells": [
  {
   "cell_type": "markdown",
   "metadata": {},
   "source": [
    "## Classes and objects (OOP)"
   ]
  },
  {
   "cell_type": "code",
   "execution_count": 1,
   "metadata": {
    "collapsed": true
   },
   "outputs": [],
   "source": [
    "class Person:\n",
    "    age=34\n",
    "    def printName(name):\n",
    "        print(name)\n",
    "   "
   ]
  },
  {
   "cell_type": "code",
   "execution_count": 2,
   "metadata": {
    "collapsed": false
   },
   "outputs": [
    {
     "data": {
      "text/plain": [
       "34"
      ]
     },
     "execution_count": 2,
     "metadata": {},
     "output_type": "execute_result"
    }
   ],
   "source": [
    "# like java static var\n",
    "Person.age\n"
   ]
  },
  {
   "cell_type": "code",
   "execution_count": 3,
   "metadata": {
    "collapsed": true
   },
   "outputs": [],
   "source": [
    "# constructor\n",
    "class Person:\n",
    "    def __init__(self):\n",
    "        print(\"__init__ called. \")\n",
    "    age=34\n",
    "    def printName(name):\n",
    "        print(name)"
   ]
  },
  {
   "cell_type": "code",
   "execution_count": 4,
   "metadata": {
    "collapsed": false
   },
   "outputs": [
    {
     "name": "stdout",
     "output_type": "stream",
     "text": [
      "__init__ called. \n"
     ]
    }
   ],
   "source": [
    "p1 = Person()"
   ]
  },
  {
   "cell_type": "markdown",
   "metadata": {},
   "source": [
    "### constructor and statements inside a class definition"
   ]
  },
  {
   "cell_type": "code",
   "execution_count": 5,
   "metadata": {
    "collapsed": false
   },
   "outputs": [
    {
     "name": "stdout",
     "output_type": "stream",
     "text": [
      "im running once when class is initialized... NOT INSTANTIATED !!!\n"
     ]
    }
   ],
   "source": [
    "class Moshe:\n",
    "    print('im running once when class is initialized... NOT INSTANTIATED !!!')\n",
    "    def __init__(self):\n",
    "        print('new Moshe instantiated')\n",
    "    def myfunc():\n",
    "        print('myfunc() called.')\n",
    "    "
   ]
  },
  {
   "cell_type": "code",
   "execution_count": 6,
   "metadata": {
    "collapsed": false
   },
   "outputs": [
    {
     "name": "stdout",
     "output_type": "stream",
     "text": [
      "new Moshe instantiated\n"
     ]
    }
   ],
   "source": [
    "m1=Moshe()"
   ]
  },
  {
   "cell_type": "markdown",
   "metadata": {},
   "source": [
    "### self (or any other name that refers to the object itself. ) - used to pass the object inside the c'tor so adding fields will be bound to the object and will not disappar when __init__ done execution"
   ]
  },
  {
   "cell_type": "code",
   "execution_count": 7,
   "metadata": {
    "collapsed": true
   },
   "outputs": [],
   "source": [
    "class Person:\n",
    "    contry='israel'\n",
    "    def __init__(self, person_name):\n",
    "        self.name = person_name\n",
    "    def printMe(self):\n",
    "        print('i am {}'.format(self.name))"
   ]
  },
  {
   "cell_type": "code",
   "execution_count": 20,
   "metadata": {
    "collapsed": false
   },
   "outputs": [
    {
     "name": "stdout",
     "output_type": "stream",
     "text": [
      "i am avi\n"
     ]
    }
   ],
   "source": [
    "m1=Person('david')\n",
    "m2=Person('avi')\n",
    "m2.printMe()"
   ]
  },
  {
   "cell_type": "code",
   "execution_count": 15,
   "metadata": {
    "collapsed": false
   },
   "outputs": [
    {
     "name": "stdout",
     "output_type": "stream",
     "text": [
      "i am menashe\n"
     ]
    }
   ],
   "source": [
    "Person('menashe').printMe()"
   ]
  },
  {
   "cell_type": "markdown",
   "metadata": {},
   "source": [
    "### TODO: check it out (m2 is a Person, Person is of class type)\n"
   ]
  },
  {
   "cell_type": "code",
   "execution_count": 18,
   "metadata": {
    "collapsed": false
   },
   "outputs": [
    {
     "data": {
      "text/plain": [
       "__main__.Person"
      ]
     },
     "execution_count": 18,
     "metadata": {},
     "output_type": "execute_result"
    }
   ],
   "source": [
    "type(m2)"
   ]
  },
  {
   "cell_type": "code",
   "execution_count": 19,
   "metadata": {
    "collapsed": false
   },
   "outputs": [
    {
     "data": {
      "text/plain": [
       "type"
      ]
     },
     "execution_count": 19,
     "metadata": {},
     "output_type": "execute_result"
    }
   ],
   "source": [
    "type(Person)"
   ]
  },
  {
   "cell_type": "markdown",
   "metadata": {},
   "source": [
    "### set object fields from constructor parameters"
   ]
  },
  {
   "cell_type": "code",
   "execution_count": 74,
   "metadata": {
    "collapsed": false
   },
   "outputs": [
    {
     "data": {
      "text/plain": [
       "'invalid triangle.'"
      ]
     },
     "execution_count": 74,
     "metadata": {},
     "output_type": "execute_result"
    }
   ],
   "source": [
    "class Triangle:\n",
    "    def __init__(self, a, b, c):\n",
    "        self.a = a\n",
    "        self.b = b\n",
    "        self.c = c\n",
    "    def is_valid(self):\n",
    "        return (self.a + self.b > self.c) and (self.b + self.c > self.a) and (self.c + self.a > self.b)\n",
    "    def get_area(self):\n",
    "        if self.is_valid():\n",
    "            s = (self.a + self.b + self.c)/2\n",
    "            area = (s * (s-self.a) * (s-self.b) * (s-self.c)) ** (1/2)\n",
    "            return area\n",
    "        else: \n",
    "            return 'invalid triangle.'\n",
    "\n",
    "t1 = Triangle(5,5,15)\n",
    "t1.get_area()"
   ]
  },
  {
   "cell_type": "markdown",
   "metadata": {},
   "source": [
    "### calling the class method, providing the object during the call"
   ]
  },
  {
   "cell_type": "code",
   "execution_count": 75,
   "metadata": {
    "collapsed": false
   },
   "outputs": [
    {
     "data": {
      "text/plain": [
       "True"
      ]
     },
     "execution_count": 75,
     "metadata": {},
     "output_type": "execute_result"
    }
   ],
   "source": [
    "# Triangle.is_valid() - ERROR (missing self)\n",
    "t4 = Triangle(4,4,4)\n",
    "Triangle.is_valid(t4)"
   ]
  },
  {
   "cell_type": "markdown",
   "metadata": {},
   "source": [
    "### Dynamic fields/functions for object / class . \n",
    "### note that when obj has a property and then we add the same property for the class, its NOT being overriden!"
   ]
  },
  {
   "cell_type": "code",
   "execution_count": 89,
   "metadata": {
    "collapsed": true
   },
   "outputs": [],
   "source": [
    "class Animal:\n",
    "    pass\n",
    "\n",
    "a1 = Animal()\n",
    "a2 = Animal()\n",
    "a1.stripes = True"
   ]
  },
  {
   "cell_type": "code",
   "execution_count": 90,
   "metadata": {
    "collapsed": false
   },
   "outputs": [
    {
     "data": {
      "text/plain": [
       "True"
      ]
     },
     "execution_count": 90,
     "metadata": {},
     "output_type": "execute_result"
    }
   ],
   "source": [
    "a1.stripes"
   ]
  },
  {
   "cell_type": "code",
   "execution_count": null,
   "metadata": {
    "collapsed": true
   },
   "outputs": [],
   "source": [
    "a2.stripes # not exists in this object"
   ]
  },
  {
   "cell_type": "code",
   "execution_count": 92,
   "metadata": {
    "collapsed": true
   },
   "outputs": [],
   "source": [
    "Animal.stripes = 'N/A'"
   ]
  },
  {
   "cell_type": "code",
   "execution_count": 94,
   "metadata": {
    "collapsed": false
   },
   "outputs": [
    {
     "name": "stdout",
     "output_type": "stream",
     "text": [
      "True N/A\n"
     ]
    }
   ],
   "source": [
    "print (a1.stripes, a2.stripes) # now its exists in all object of type Animal"
   ]
  },
  {
   "cell_type": "code",
   "execution_count": 101,
   "metadata": {
    "collapsed": true
   },
   "outputs": [],
   "source": [
    "def make_sound(self):\n",
    "    print ('rrrrrrr rrrrrrrrrr rrrrrrrr')\n"
   ]
  },
  {
   "cell_type": "code",
   "execution_count": 105,
   "metadata": {
    "collapsed": false
   },
   "outputs": [
    {
     "name": "stdout",
     "output_type": "stream",
     "text": [
      "rrrrrrr rrrrrrrrrr rrrrrrrr\n"
     ]
    }
   ],
   "source": [
    "Animal.make_sound = make_sound\n",
    "a1.make_sound()"
   ]
  },
  {
   "cell_type": "markdown",
   "metadata": {},
   "source": [
    "### Special methods"
   ]
  },
  {
   "cell_type": "code",
   "execution_count": 118,
   "metadata": {
    "collapsed": true
   },
   "outputs": [],
   "source": [
    "class Person:\n",
    "    def __init__(sseellff, name): # sseellff is a local identifier for the object\n",
    "        sseellff.name = name\n",
    "    def __getitem__(self, name):\n",
    "        return 'xyz'\n",
    "    def __add__(self, other): # overloading the '+' operator\n",
    "        temp_person = self.name + other.name\n",
    "        return temp_person"
   ]
  },
  {
   "cell_type": "code",
   "execution_count": 120,
   "metadata": {
    "collapsed": false
   },
   "outputs": [
    {
     "name": "stdout",
     "output_type": "stream",
     "text": [
      "avi\n",
      "tal\n",
      "avital\n"
     ]
    }
   ],
   "source": [
    "# using the + operator to add 2 person and create a new person with a concatenated name\n",
    "p1 = Person('avi')\n",
    "p2 = Person('tal')\n",
    "print (p1.name)\n",
    "print (p2.name)\n",
    "print (p1 + p2)"
   ]
  },
  {
   "cell_type": "code",
   "execution_count": null,
   "metadata": {
    "collapsed": true
   },
   "outputs": [],
   "source": []
  }
 ],
 "metadata": {
  "kernelspec": {
   "display_name": "Python 3",
   "language": "python",
   "name": "python3"
  },
  "language_info": {
   "codemirror_mode": {
    "name": "ipython",
    "version": 3
   },
   "file_extension": ".py",
   "mimetype": "text/x-python",
   "name": "python",
   "nbconvert_exporter": "python",
   "pygments_lexer": "ipython3",
   "version": "3.4.3"
  }
 },
 "nbformat": 4,
 "nbformat_minor": 0
}
