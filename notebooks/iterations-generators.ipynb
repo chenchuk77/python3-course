{
 "cells": [
  {
   "cell_type": "markdown",
   "metadata": {},
   "source": [
    "### Iterators and Generators"
   ]
  },
  {
   "cell_type": "markdown",
   "metadata": {},
   "source": [
    "# Iterators"
   ]
  },
  {
   "cell_type": "code",
   "execution_count": 27,
   "metadata": {
    "collapsed": true
   },
   "outputs": [],
   "source": [
    "l1 = [ chr(i+97) for i in range(6)] \n"
   ]
  },
  {
   "cell_type": "code",
   "execution_count": 28,
   "metadata": {
    "collapsed": false
   },
   "outputs": [
    {
     "data": {
      "text/plain": [
       "list_iterator"
      ]
     },
     "execution_count": 28,
     "metadata": {},
     "output_type": "execute_result"
    }
   ],
   "source": [
    "it = l1.__iter__()\n",
    "type(it)"
   ]
  },
  {
   "cell_type": "code",
   "execution_count": 29,
   "metadata": {
    "collapsed": false
   },
   "outputs": [
    {
     "data": {
      "text/plain": [
       "'a'"
      ]
     },
     "execution_count": 29,
     "metadata": {},
     "output_type": "execute_result"
    }
   ],
   "source": [
    "it.__next__() # for loop is actually call this"
   ]
  },
  {
   "cell_type": "markdown",
   "metadata": {},
   "source": [
    "### running a for loop is looking for __iter__() and __next__()"
   ]
  },
  {
   "cell_type": "code",
   "execution_count": 30,
   "metadata": {
    "collapsed": true
   },
   "outputs": [],
   "source": [
    "class FivePersons:\n",
    "    def __init__(self):\n",
    "        self.ppl = ['Jenny', 'Nathan', 'David', 'Katherine', 'Dudu']\n",
    "        self.ppl_count = 5\n",
    "    def __next__(self):       # for loop will run via this __next__() call. \n",
    "        self.current += 1\n",
    "    def __iter__(self):       # this happens first, returns this object because it has iterator\n",
    "        self.current = 0\n",
    "        return self\n",
    "        "
   ]
  },
  {
   "cell_type": "code",
   "execution_count": 31,
   "metadata": {
    "collapsed": false
   },
   "outputs": [
    {
     "name": "stdout",
     "output_type": "stream",
     "text": [
      "b\n",
      "c\n",
      "d\n",
      "e\n",
      "f\n"
     ]
    },
    {
     "ename": "StopIteration",
     "evalue": "",
     "output_type": "error",
     "traceback": [
      "\u001b[1;31m---------------------------------------------------------------------------\u001b[0m",
      "\u001b[1;31mStopIteration\u001b[0m                             Traceback (most recent call last)",
      "\u001b[1;32m<ipython-input-31-12f208156b8b>\u001b[0m in \u001b[0;36m<module>\u001b[1;34m()\u001b[0m\n\u001b[0;32m      4\u001b[0m \u001b[0mprint\u001b[0m\u001b[1;33m(\u001b[0m\u001b[0mit\u001b[0m\u001b[1;33m.\u001b[0m\u001b[0m__next__\u001b[0m\u001b[1;33m(\u001b[0m\u001b[1;33m)\u001b[0m\u001b[1;33m)\u001b[0m\u001b[1;33m\u001b[0m\u001b[0m\n\u001b[0;32m      5\u001b[0m \u001b[0mprint\u001b[0m\u001b[1;33m(\u001b[0m\u001b[0mit\u001b[0m\u001b[1;33m.\u001b[0m\u001b[0m__next__\u001b[0m\u001b[1;33m(\u001b[0m\u001b[1;33m)\u001b[0m\u001b[1;33m)\u001b[0m\u001b[1;33m\u001b[0m\u001b[0m\n\u001b[1;32m----> 6\u001b[1;33m \u001b[0mprint\u001b[0m\u001b[1;33m(\u001b[0m\u001b[0mit\u001b[0m\u001b[1;33m.\u001b[0m\u001b[0m__next__\u001b[0m\u001b[1;33m(\u001b[0m\u001b[1;33m)\u001b[0m\u001b[1;33m)\u001b[0m\u001b[1;33m\u001b[0m\u001b[0m\n\u001b[0m",
      "\u001b[1;31mStopIteration\u001b[0m: "
     ]
    }
   ],
   "source": [
    "print(it.__next__())\n",
    "print(it.__next__())\n",
    "print(it.__next__())\n",
    "print(it.__next__())\n",
    "print(it.__next__())\n",
    "print(it.__next__()) # this is an ERROR\n"
   ]
  },
  {
   "cell_type": "markdown",
   "metadata": {},
   "source": [
    "### protect against index-out-of-list ( List class handles it, FivePerson doesnt yet)"
   ]
  },
  {
   "cell_type": "code",
   "execution_count": 32,
   "metadata": {
    "collapsed": true
   },
   "outputs": [],
   "source": [
    "class FivePersons:\n",
    "    def __init__(self):\n",
    "        self.ppl = ['Jenny', 'Nathan', 'David', 'Katherine', 'Dudu']\n",
    "        self.ppl_count = 5\n",
    "    def __next__(self):       # for loop will run via this __next__() call. \n",
    "        print(next)\n",
    "        if self.current == 3:\n",
    "            raise stopIteration\n",
    "        self.current += 1\n",
    "    def __iter__(self):       # this happens first, returns this object because it has iterator\n",
    "        self.current = 0\n",
    "        return self\n"
   ]
  },
  {
   "cell_type": "markdown",
   "metadata": {},
   "source": [
    "### Iterable is an object that has __iter__ and __next__"
   ]
  },
  {
   "cell_type": "code",
   "execution_count": 34,
   "metadata": {
    "collapsed": true
   },
   "outputs": [],
   "source": [
    "s1 = 'hello'"
   ]
  },
  {
   "cell_type": "code",
   "execution_count": 35,
   "metadata": {
    "collapsed": true
   },
   "outputs": [],
   "source": [
    "its = s1.__iter__()"
   ]
  },
  {
   "cell_type": "code",
   "execution_count": 36,
   "metadata": {
    "collapsed": false
   },
   "outputs": [
    {
     "data": {
      "text/plain": [
       "'h'"
      ]
     },
     "execution_count": 36,
     "metadata": {},
     "output_type": "execute_result"
    }
   ],
   "source": [
    "its.__next__()"
   ]
  },
  {
   "cell_type": "code",
   "execution_count": 37,
   "metadata": {
    "collapsed": false
   },
   "outputs": [
    {
     "ename": "AttributeError",
     "evalue": "'str' object attribute '__iter__' is read-only",
     "output_type": "error",
     "traceback": [
      "\u001b[1;31m---------------------------------------------------------------------------\u001b[0m",
      "\u001b[1;31mAttributeError\u001b[0m                            Traceback (most recent call last)",
      "\u001b[1;32m<ipython-input-37-2eed7212a260>\u001b[0m in \u001b[0;36m<module>\u001b[1;34m()\u001b[0m\n\u001b[1;32m----> 1\u001b[1;33m \u001b[0ms1\u001b[0m\u001b[1;33m.\u001b[0m\u001b[0m__iter__\u001b[0m \u001b[1;33m=\u001b[0m \u001b[1;36m8\u001b[0m\u001b[1;33m\u001b[0m\u001b[0m\n\u001b[0m",
      "\u001b[1;31mAttributeError\u001b[0m: 'str' object attribute '__iter__' is read-only"
     ]
    }
   ],
   "source": [
    "s1.__iter__ = 8 # cant do that"
   ]
  },
  {
   "cell_type": "markdown",
   "metadata": {},
   "source": [
    "# Generators"
   ]
  },
  {
   "cell_type": "markdown",
   "metadata": {},
   "source": [
    "### yield returns a value but continue execution !"
   ]
  },
  {
   "cell_type": "code",
   "execution_count": 41,
   "metadata": {
    "collapsed": false
   },
   "outputs": [
    {
     "name": "stdout",
     "output_type": "stream",
     "text": [
      "Jenny\n",
      "Nathan\n",
      "David\n",
      "Katherine\n",
      "Dudu\n"
     ]
    }
   ],
   "source": [
    "def gen_ppl():\n",
    "    ppl = ['Jenny', 'Nathan', 'David', 'Katherine', 'Dudu']\n",
    "    current = 0\n",
    "    while current < 5:\n",
    "        yield ppl[current]\n",
    "        current += 1\n",
    "for p in gen_ppl():\n",
    "    print (p)\n"
   ]
  },
  {
   "cell_type": "code",
   "execution_count": 42,
   "metadata": {
    "collapsed": false
   },
   "outputs": [
    {
     "data": {
      "text/plain": [
       "generator"
      ]
     },
     "execution_count": 42,
     "metadata": {},
     "output_type": "execute_result"
    }
   ],
   "source": [
    "type(gen_ppl())"
   ]
  },
  {
   "cell_type": "code",
   "execution_count": 80,
   "metadata": {
    "collapsed": true
   },
   "outputs": [],
   "source": [
    "def fib(n):\n",
    "    if n==0 or n==1:\n",
    "        return 1\n",
    "    else:\n",
    "        return fib(n-1) + fib(n-2)\n",
    "    "
   ]
  },
  {
   "cell_type": "code",
   "execution_count": 81,
   "metadata": {
    "collapsed": false
   },
   "outputs": [
    {
     "name": "stdout",
     "output_type": "stream",
     "text": [
      "1\n",
      "1\n",
      "2\n",
      "3\n",
      "5\n",
      "8\n",
      "13\n",
      "21\n",
      "34\n",
      "55\n"
     ]
    }
   ],
   "source": [
    "for i in range(10):\n",
    "    print (fib(i))"
   ]
  },
  {
   "cell_type": "code",
   "execution_count": null,
   "metadata": {
    "collapsed": true
   },
   "outputs": [],
   "source": [
    "### TODO : finish fibo generator - not working"
   ]
  },
  {
   "cell_type": "code",
   "execution_count": 78,
   "metadata": {
    "collapsed": true
   },
   "outputs": [],
   "source": [
    "def fibgen(n):\n",
    "    last = n\n",
    "    a = 0\n",
    "    b = 1\n",
    "    \n",
    "    yield a\n",
    "    yield b\n",
    "    count = 2\n",
    "    next = a + b\n",
    "    while (count < last):\n",
    "        yield next\n",
    "        count += 1\n",
    "        next = b\n",
    "        b = a\n",
    "        \n",
    "        "
   ]
  },
  {
   "cell_type": "markdown",
   "metadata": {},
   "source": [
    "### find max or sort by supplying a comperator"
   ]
  },
  {
   "cell_type": "code",
   "execution_count": 84,
   "metadata": {
    "collapsed": false
   },
   "outputs": [
    {
     "name": "stdout",
     "output_type": "stream",
     "text": [
      "[(2, 3), (1, 5), (66, 15), (5, 78)]\n"
     ]
    }
   ],
   "source": [
    "# sort by the second element ( the key is the comperator ) \n",
    "pairs = ((1,5), (2,3), (5,78), (66,15))\n",
    "\n",
    "def sort_pairs(pairs):\n",
    "    sorted_pairs = sorted(pairs, key = lambda x: x[1])\n",
    "    return sorted_pairs\n",
    "    \n",
    "print (sort_pairs(pairs))\n"
   ]
  },
  {
   "cell_type": "code",
   "execution_count": 1,
   "metadata": {
    "collapsed": true
   },
   "outputs": [],
   "source": [
    "students = {'tamar': 34, 'miri': 22, 'Dotan': 20}\n",
    "d = { 'a': 10, 'b': 50, 'c': 30 }"
   ]
  },
  {
   "cell_type": "code",
   "execution_count": 102,
   "metadata": {
    "collapsed": false
   },
   "outputs": [
    {
     "name": "stdout",
     "output_type": "stream",
     "text": [
      "tamar\n"
     ]
    }
   ],
   "source": [
    "def get_older_person(students):\n",
    "    max_age = 0\n",
    "    for name, age in students.items():\n",
    "        if age > max_age:\n",
    "            older_name = name\n",
    "            max_age = age\n",
    "    return name\n",
    "\n",
    "print (get_older_person(students))"
   ]
  },
  {
   "cell_type": "code",
   "execution_count": 2,
   "metadata": {
    "collapsed": false
   },
   "outputs": [
    {
     "data": {
      "text/plain": [
       "('b', 50)"
      ]
     },
     "execution_count": 2,
     "metadata": {},
     "output_type": "execute_result"
    }
   ],
   "source": [
    "max (d.items(), key = lambda x : x[1] )"
   ]
  },
  {
   "cell_type": "markdown",
   "metadata": {},
   "source": [
    "### exercises"
   ]
  },
  {
   "cell_type": "code",
   "execution_count": 17,
   "metadata": {
    "collapsed": false
   },
   "outputs": [
    {
     "name": "stdout",
     "output_type": "stream",
     "text": [
      "Year,Month,Day,Hour,Minute,Temperature,Total Precipitation (high resolution)  [sfc],Wind Speed  [10 m above gnd],Wind Direction  [10 m above gnd]\r\n",
      "2019,6,7,0,0,16.6,0,14.59,15.75\r\n",
      "2019,6,7,1,0,16.12,0,12.77,21.5\r\n",
      "2019,6,7,2,0,15.27,0,9.03,23.5\r\n",
      "2019,6,7,3,0,14.89,0,3.83,41.19\r\n"
     ]
    }
   ],
   "source": [
    "%cat data/data.csv | head -n 5\n"
   ]
  },
  {
   "cell_type": "code",
   "execution_count": 23,
   "metadata": {
    "collapsed": false
   },
   "outputs": [
    {
     "name": "stdout",
     "output_type": "stream",
     "text": [
      "['16.6', '16.12', '15.27', '14.89', '14.3', '14.3', '11.03', '10.84', '10.65', '10.4', '10.17', '9.78', '9.11', '8.22', '7.24', '6.57', '6.84', '6.56', '5.87', '6.43', '6.21', '6.01', '5.72', '5.21', '4.81', '4.84', '5.15', '5.46', '5.71', '5.93', '6.53', '7.56', '8.41', '9.5', '10.7', '11.68', '12.74', '13.74', '14.49', '14.04', '15.25', '15.38', '15.26', '14.14', '14', '13.1', '12.1', '12.28', '11.48', '9.83', '7.85', '6.6', '5.95', '4.92', '5.68', '8.25', '10.4', '12.08', '12.66', '14.72', '13.76', '13.81', '14.51', '14.67', '15.32', '15.29', '16.6', '16.15', '15.71', '14.33', '13.41', '12.42', '12.08', '10.92', '9.87', '8.99', '8.28', '7.7', '7.96', '10.71', '14.09', '16.05', '17.44', '18.6', '19.51', '20.29', '19.97', '20.16', '20.66', '20.9', '20.53', '19.82', '19.34', '17.64', '15.12', '12.85', '12', '10.97', '10.08', '9.04', '8.16', '7.43', '8.41', '11.93', '14', '15.43', '16.93', '18.23', '19.17', '19.98', '20.53', '20.83', '20.9', '20.88', '20.04', '20.32', '19.7', '17.76', '16.12', '15.45', '14.88', '14.29', '13.79', '13.87', '13.6', '13.16', '13.73', '15.7', '17.43', '19.68', '20.45', '21.34', '23.56', '24.64', '24.19', '24.37', '25.88', '25.81', '25.95', '25.42', '24.45', '22.48', '20.58', '19.15', '17.9', '16.73', '15.71', '14.74', '13.91', '13.27', '14', '17.61', '20.15', '22.64', '24.29', '24.23', '26.48', '25.89', '25.42', '25.41', '26.94', '25.6', '25.06', '24.16', '23.75', '21.46', '18.25', '16.75', '17.58', '17.21', '16.47', '15.98', '15.5', '14.9', '14.9', '15.32', '15.62', '16.67', '18.67', '20.92', '21.44', '20.7', '22.13', '22.24', '20.95', '20.36', '19.77', '19.42', '19.75', '18.57', '17.95', '17.33', None]\n"
     ]
    }
   ],
   "source": [
    "import csv\n",
    "with open('data/data.csv') as csvfile:\n",
    "    rows = csv.DictReader(csvfile)\n",
    "    temps = [ row['Temperature'] for row in rows ]    \n",
    "print (temps)"
   ]
  },
  {
   "cell_type": "code",
   "execution_count": null,
   "metadata": {
    "collapsed": true
   },
   "outputs": [],
   "source": []
  },
  {
   "cell_type": "code",
   "execution_count": null,
   "metadata": {
    "collapsed": true
   },
   "outputs": [],
   "source": [
    "import csv\n",
    "with open('data/data.csv') as csvfile:\n",
    "    rows = csv.DictReader(csvfile)\n",
    "    temps = [ row['Temperature'] for row in rows ]    \n",
    "print (temps)"
   ]
  },
  {
   "cell_type": "code",
   "execution_count": 68,
   "metadata": {
    "collapsed": false
   },
   "outputs": [
    {
     "name": "stdout",
     "output_type": "stream",
     "text": [
      "['16.6', '16.12', '15.27', '14.89', '14.3', '14.3', '11.03', '10.84', '10.65', '10.4']\n",
      "16.6\n",
      "16.12\n",
      "15.27\n"
     ]
    }
   ],
   "source": [
    "import csv\n",
    "\n",
    "def get_temps():\n",
    "    with open('data/data.csv') as csvfile:\n",
    "        rows = csv.DictReader(csvfile)\n",
    "        temps = [ row['Temperature'] for row in rows ]    \n",
    "    return temps\n",
    "\n",
    "def tempgen():\n",
    "    with open('data/data.csv') as csvfile:\n",
    "        rows = csv.DictReader(csvfile)\n",
    "        for row in rows:\n",
    "            yield row['Temperature']\n",
    "\n",
    "# print 10 temps from dataset\n",
    "print(get_temps()[:10])\n",
    "            \n",
    "# generator and sample calls\n",
    "tg = tempgen()\n",
    "print(tg.__next__())\n",
    "print(tg.__next__())\n",
    "print(tg.__next__())\n"
   ]
  },
  {
   "cell_type": "code",
   "execution_count": 69,
   "metadata": {
    "collapsed": false
   },
   "outputs": [
    {
     "data": {
      "text/plain": [
       "['14.89', '14.3', '14.3', '11.03']"
      ]
     },
     "execution_count": 69,
     "metadata": {},
     "output_type": "execute_result"
    }
   ],
   "source": [
    "# list(gen) will collect all yielded items to a new list \n",
    "list(tg)[:4]"
   ]
  },
  {
   "cell_type": "code",
   "execution_count": null,
   "metadata": {
    "collapsed": true
   },
   "outputs": [],
   "source": [
    "# now it will not print anything since generator is done !\n",
    "list(tg)[:4]"
   ]
  },
  {
   "cell_type": "code",
   "execution_count": null,
   "metadata": {
    "collapsed": true
   },
   "outputs": [],
   "source": []
  }
 ],
 "metadata": {
  "kernelspec": {
   "display_name": "Python 3",
   "language": "python",
   "name": "python3"
  },
  "language_info": {
   "codemirror_mode": {
    "name": "ipython",
    "version": 3
   },
   "file_extension": ".py",
   "mimetype": "text/x-python",
   "name": "python",
   "nbconvert_exporter": "python",
   "pygments_lexer": "ipython3",
   "version": "3.4.3"
  }
 },
 "nbformat": 4,
 "nbformat_minor": 0
}
