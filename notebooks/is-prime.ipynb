{
 "cells": [
  {
   "cell_type": "markdown",
   "metadata": {
    "collapsed": true
   },
   "source": [
    "## This program checks if a number is a prime number"
   ]
  },
  {
   "cell_type": "markdown",
   "metadata": {},
   "source": [
    "### prime numbers = [1,2,3,5,7,11.....]\n"
   ]
  },
  {
   "cell_type": "code",
   "execution_count": null,
   "metadata": {
    "collapsed": false
   },
   "outputs": [
    {
     "name": "stdout",
     "output_type": "stream",
     "text": [
      "please enter a number, or just <ENTER> to quit: \n",
      "1\n",
      "1 is a prime number.\n"
     ]
    }
   ],
   "source": [
    "while True:\n",
    "    number_str = input ('please enter a number, or just <ENTER> to quit: \\n')\n",
    "    if not number_str:\n",
    "        exit(0)\n",
    "    number = int(number_str)\n",
    "    devisors = []\n",
    "\n",
    "    for i in range(2, number):\n",
    "        if number % i == 0:\n",
    "            devisors += [i]\n",
    "    if devisors:\n",
    "        print('{} is not prime.\\n(devides by {}).'.format(number, devisors))\n",
    "        # break\n",
    "    else:\n",
    "        print('{} is a prime number.'.format(number))\n"
   ]
  },
  {
   "cell_type": "code",
   "execution_count": null,
   "metadata": {
    "collapsed": true
   },
   "outputs": [],
   "source": []
  },
  {
   "cell_type": "code",
   "execution_count": null,
   "metadata": {
    "collapsed": true
   },
   "outputs": [],
   "source": []
  },
  {
   "cell_type": "code",
   "execution_count": null,
   "metadata": {
    "collapsed": true
   },
   "outputs": [],
   "source": []
  },
  {
   "cell_type": "code",
   "execution_count": null,
   "metadata": {
    "collapsed": true
   },
   "outputs": [],
   "source": []
  },
  {
   "cell_type": "code",
   "execution_count": null,
   "metadata": {
    "collapsed": true
   },
   "outputs": [],
   "source": []
  }
 ],
 "metadata": {
  "kernelspec": {
   "display_name": "Python 3",
   "language": "python",
   "name": "python3"
  },
  "language_info": {
   "codemirror_mode": {
    "name": "ipython",
    "version": 3
   },
   "file_extension": ".py",
   "mimetype": "text/x-python",
   "name": "python",
   "nbconvert_exporter": "python",
   "pygments_lexer": "ipython3",
   "version": "3.4.3"
  }
 },
 "nbformat": 4,
 "nbformat_minor": 0
}
