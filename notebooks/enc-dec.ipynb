{
 "cells": [
  {
   "cell_type": "markdown",
   "metadata": {
    "collapsed": true
   },
   "source": [
    "## This program reads UTF-8 text from a file and encrypt it using a random char substitution. It then trying to decrypt it using a well known probability of english letters."
   ]
  },
  {
   "cell_type": "code",
   "execution_count": 2,
   "metadata": {
    "collapsed": false
   },
   "outputs": [
    {
     "name": "stdout",
     "output_type": "stream",
     "text": [
      "clear_text: ﻿The Project Gutenberg eBook\n",
      "encrypted: ﻿cgy rtnwyvc hjcyuxyth yxnnf,\n",
      "['e', 't', 'a', 'o', 'i', 'n', 's', 'h', 'r', 'd', 'l', 'c', 'u', 'm', 'w', 'f', 'g', 'y', 'p', 'b', 'v', 'k', 'j', 'x', 'q', 'z']\n",
      "['y', 'c', 'p', 'n', 'e', 'u', 's', 'g', 't', 'b', 'q', 'j', 'o', 'm', 'v', 'k', 'd', 'h', 'r', 'x', 'z', 'f', 'w', 'a', 'l', 'i']\n",
      "1461984\n",
      "1461984\n",
      "decrypted: ﻿the projewt yctenbery ebook,\n"
     ]
    }
   ],
   "source": [
    "import os\n",
    "from random import shuffle\n",
    "\n",
    "def get_ordered_values_list(d):\n",
    "    ''' accepts a dictionary of and returns a list of keys, sorted by\n",
    "    the corresponding value in dict (ie. list[0] is the key of the highest value) '''\n",
    "    # sort the values\n",
    "    dvalues = list(d.values())\n",
    "    dvalues.sort(reverse=True)\n",
    "    # extract the keys (letters) and add 1 letter each iteration\n",
    "    keys = []\n",
    "    for v in dvalues:\n",
    "        keys += [key for key, val in d.items() if val == v ]\n",
    "    return keys\n",
    "\n",
    "def get_probability_dataset():\n",
    "    ''' a given dataset of a-z probabilities '''\n",
    "    return {\n",
    "        'a': 8.167, 'b': 1.492, 'c': 2.782, 'd': 4.253, 'e': 12.702,\n",
    "        'f': 2.228, 'g': 2.015, 'h': 6.094, 'i': 6.966, 'j': 0.153,\n",
    "        'k': 0.772, 'l': 4.025, 'm': 2.406, 'n': 6.749, 'o': 7.507,\n",
    "        'p': 1.929, 'q': 0.095, 'r': 5.987, 's': 6.327, 't': 9.056,\n",
    "        'u': 2.758, 'v': 0.978, 'w': 2.360, 'x': 0.150, 'y': 1.974, 'z': 0.074}\n",
    "\n",
    "def get_enc_key():\n",
    "    '''  returns a random ordered list of all small letters a-z '''\n",
    "    abc_list =  [ chr(97 + i) for i in range(26)]\n",
    "    k = abc_list\n",
    "    shuffle(k)\n",
    "    return k\n",
    "\n",
    "def encrypt(clear_text, key):\n",
    "    '''  replace each letter with the corresponding index in the key.('a' replaced by key[0]) '''\n",
    "    cipher = ''\n",
    "    for letter in clear_text.lower():\n",
    "        if letter in key:\n",
    "            pos = ord(letter)-97\n",
    "            enc_letter = key[pos]\n",
    "            #print (letter, pos, enc_letter)\n",
    "            cipher += enc_letter\n",
    "        else:\n",
    "            cipher += letter\n",
    "    return cipher\n",
    "\n",
    "def decrypt(encrypted_text, key):\n",
    "    '''  count letter appearances in encrypted-text and replace each letter with the matching probability '''\n",
    "    # loads the dataset of probabilities \n",
    "    p = get_probability_dataset()\n",
    "    output = ''\n",
    "    \n",
    "    # init a dict to count letters appearnces in the encrypted text\n",
    "    counts = { letter:0 for letter in key }\n",
    "    for letter in encrypted_text.lower():\n",
    "        if letter in key:\n",
    "            counts[letter] += 1\n",
    "\n",
    "    # sort both lists such as p_list[0] is the most probable letter (by dataset)\n",
    "    # and c_list[0] is the letter with the most count \n",
    "    p_list = get_ordered_values_list(p)\n",
    "    c_list = get_ordered_values_list(counts)\n",
    "\n",
    "    print (p_list)\n",
    "    print (c_list)\n",
    "    \n",
    "    # build the output string by switch known english letters and preserve the rest\n",
    "    print (len(encrypted_text))\n",
    "    for letter in encrypted_text:\n",
    "        if letter in c_list:\n",
    "            # append letter with same index from the probability list\n",
    "            output += p_list[c_list.index(letter)]\n",
    "        else:\n",
    "            output += letter\n",
    "    print (len(output))\n",
    "    return output\n",
    "\n",
    "def main():\n",
    "    # open 2 files to have a lot of text\n",
    "    with open(\"data/book3\", \"r\") as f:\n",
    "        clear_text = f.read()\n",
    "    with open(\"data/book2\", \"r\") as f:\n",
    "        clear_text += f.read()\n",
    "\n",
    "    print ('clear_text: {}'.format(clear_text)[:40])\n",
    "\n",
    "    # testing encryption\n",
    "    k = get_enc_key()\n",
    "    enc_text = encrypt(clear_text, k)\n",
    "    print ('encrypted: {}'.format(enc_text)[:40])\n",
    "\n",
    "    # testing decryption\n",
    "    dec_text = decrypt(enc_text, k)\n",
    "    print ('decrypted: {}'.format(dec_text)[:40])\n",
    "    \n",
    "main()\n"
   ]
  },
  {
   "cell_type": "code",
   "execution_count": null,
   "metadata": {
    "collapsed": true
   },
   "outputs": [],
   "source": []
  },
  {
   "cell_type": "code",
   "execution_count": null,
   "metadata": {
    "collapsed": true
   },
   "outputs": [],
   "source": []
  },
  {
   "cell_type": "code",
   "execution_count": null,
   "metadata": {
    "collapsed": true
   },
   "outputs": [],
   "source": []
  },
  {
   "cell_type": "code",
   "execution_count": null,
   "metadata": {
    "collapsed": true
   },
   "outputs": [],
   "source": []
  }
 ],
 "metadata": {
  "kernelspec": {
   "display_name": "Python 3",
   "language": "python",
   "name": "python3"
  },
  "language_info": {
   "codemirror_mode": {
    "name": "ipython",
    "version": 3
   },
   "file_extension": ".py",
   "mimetype": "text/x-python",
   "name": "python",
   "nbconvert_exporter": "python",
   "pygments_lexer": "ipython3",
   "version": "3.4.3"
  }
 },
 "nbformat": 4,
 "nbformat_minor": 0
}
