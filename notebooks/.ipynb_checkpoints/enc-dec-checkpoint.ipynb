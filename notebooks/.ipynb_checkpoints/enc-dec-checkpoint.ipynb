{
 "cells": [
  {
   "cell_type": "code",
   "execution_count": 87,
   "metadata": {
    "collapsed": true
   },
   "outputs": [],
   "source": [
    "clear_text = '''\n",
    "CHAPTER TWENTY-SIX\n",
    "ARTISTIC ATTEMPTS\n",
    "It takes people a long time to learn the difference between talent and\n",
    "genius, especially ambitious young men and women.  Amy was learning\n",
    "this distinction through much tribulation, for mistaking enthusiasm for\n",
    "inspiration, she attempted every branch of art with youthful audacity.\n",
    "For a long time there was a lull in the 'mud-pie' business, and she\n",
    "devoted herself to the finest pen-and-ink drawing, in which she showed\n",
    "such taste and skill that her graceful handiwork proved both pleasant\n",
    "and profitable.  But over-strained eyes caused pen and ink to be laid\n",
    "aside for a bold attempt at poker-sketching. While this attack lasted,\n",
    "the family lived in constant fear of a conflagration, for the odor of\n",
    "burning wood pervaded the house at all hours, smoke issued from attic\n",
    "and shed with alarming frequency, red-hot pokers lay about\n",
    "promiscuously, and Hannah never went to bed without a pail of water and\n",
    "the dinner bell at her door in case of fire.  Raphael's face was found\n",
    "boldly executed on the underside of the moulding board, and Bacchus on\n",
    "the head of a beer barrel.  A chanting cherub adorned the cover of the\n",
    "sugar bucket, and attempts to portray Romeo and Juliet supplied\n",
    "kindling for some time.\n",
    "\n",
    "From fire to oil was a natural transition for burned fingers, and Amy\n",
    "fell to painting with undiminished ardor.  An artist friend fitted her\n",
    "out with his castoff palettes, brushes, and colors, and she daubed\n",
    "away, producing pastoral and marine views such as were never seen on\n",
    "land or sea.  Her monstrosities in the way of cattle would have taken\n",
    "prizes at an agricultural fair, and the perilous pitching of her\n",
    "vessels would have produced seasickness in the most nautical observer,\n",
    "if the utter disregard to all known rules of shipbuilding and rigging\n",
    "had not convulsed him with laughter at the first glance.  Swarthy boys\n",
    "and dark-eyed Madonnas, staring at you from one corner of the studio,\n",
    "suggested Murillo; oily brown shadows of faces with a lurid streak in\n",
    "the wrong place, meant Rembrandt; buxom ladies and dropiscal infants,\n",
    "Rubens; and Turner appeared in tempests of blue thunder, orange\n",
    "lightning, brown rain, and purple clouds, with a tomato-colored splash\n",
    "in the middle, which might be the sun or a bouy, a sailor's shirt or a\n",
    "king's robe, as the spectator pleased.\n",
    "\n",
    "Charcoal portraits came next, and the entire family hung in a row,\n",
    "looking as wild and crocky as if just evoked from a coalbin. Softened\n",
    "into crayon sketches, they did better, for the likenesses were good,\n",
    "and Amy's hair, Jo's nose, Meg's mouth, and Laurie's eyes were\n",
    "pronounced 'wonderfully fine'.  A return to clay and plaster followed,\n",
    "and ghostly casts of her acquaintances haunted corners of the house, or\n",
    "tumbled off closet shelves onto people's heads.  Children were enticed\n",
    "in as models, till their incoherent accounts of her mysterious doings\n",
    "caused Miss Amy to be regarded in the light of a young ogress.  Her\n",
    "efforts in this line, however, were brought to an abrupt close by an\n",
    "untoward accident, which quenched her ardor.  Other models failing her\n",
    "for a time, she undertook to cast her own pretty foot, and the family\n",
    "were one day alarmed by an unearthly bumping and screaming and running\n",
    "to the rescue, found the young enthusiast hopping wildly about the shed\n",
    "with her foot held fast in a pan full of plaster, which had hardened\n",
    "with unexpected rapidity.  With much difficulty and some danger she was\n",
    "dug out, for Jo was so overcome with laughter while she excavated that\n",
    "her knife went too far, cut the poor foot, and left a lasting memorial\n",
    "of one artistic attempt, at least.\n",
    "\n",
    "After this Amy subsided, till a mania for sketching from nature set her\n",
    "to haunting river, field, and wood, for picturesque studies, and\n",
    "sighing for ruins to copy.  She caught endless colds sitting on damp\n",
    "grass to book 'a delicious bit', composed of a stone, a stump, one\n",
    "mushroom, and a broken mullein stalk, or 'a heavenly mass of clouds',\n",
    "that looked like a choice display of featherbeds when done. She\n",
    "sacrificed her complexion floating on the river in the midsummer sun to\n",
    "study light and shade, and got a wrinkle over her nose trying after\n",
    "'points of sight', or whatever the squint-and-string performance is\n",
    "called.\n",
    "\n",
    "If 'genius is eternal patience', as Michelangelo affirms, Amy had some\n",
    "claim to the divine attribute, for she persevered in spite of all\n",
    "obstacles, failures, and discouragements, firmly believing that in time\n",
    "she should do something worthy to be called 'high art'.\n",
    "\n",
    "She was learning, doing, and enjoying other things, meanwhile, for she\n",
    "had resolved to be an attractive and accomplished woman, even if she\n",
    "never became a great artist.  Here she succeeded better, for she was\n",
    "one of those happily created beings who please without effort, make\n",
    "friends everywhere, and take life so gracefully and easily that less\n",
    "fortunate souls are tempted to believe that such are born under a lucky\n",
    "star.  Everybody liked her, for among her good gifts was tact.  She had\n",
    "an instinctive sense of what was pleasing and proper, always said the\n",
    "right thing to the right person, did just what suited the time and\n",
    "place, and was so self-possessed that her sisters used to say, \"If Amy\n",
    "went to court without any rehearsal beforehand, she'd know exactly what\n",
    "to do.\"\n",
    "\n",
    "One of her weaknesses was a desire to move in 'our best society',\n",
    "without being quite sure what the best really was.  Money, position,\n",
    "fashionable accomplishments, and elegant manners were most desirable\n",
    "things in her eyes, and she liked to associate with those who possessed\n",
    "them, often mistaking the false for the true, and admiring what was not\n",
    "admirable.  Never forgetting that by birth she was a gentlewoman, she\n",
    "cultivated her aristocratic tastes and feelings, so that when the\n",
    "opportunity came she might be ready to take the place from which\n",
    "poverty now excluded her.\n",
    "\n",
    "\"My lady,\" as her friends called her, sincerely desired to be a genuine\n",
    "lady, and was so at heart, but had yet to learn that money cannot buy\n",
    "refinement of nature, that rank does not always confer nobility, and\n",
    "that true breeding makes itself felt in spite of external drawbacks.\n",
    "\n",
    "\"I want to ask a favor of you, Mamma,\" Amy said, coming in with an\n",
    "important air one day.\n",
    "\n",
    "\"Well, little girl, what is it?\" replied her mother, in whose eyes the\n",
    "stately young lady still remained 'the baby'.\n",
    "\n",
    "\"Our drawing class breaks up next week, and before the girls separate\n",
    "for the summer, I want to ask them out here for a day.  They are wild\n",
    "to see the river, sketch the broken bridge, and copy some of the things\n",
    "they admire in my book.  They have been very kind to me in many ways,\n",
    "and I am grateful, for they are all rich and I know I am poor, yet they\n",
    "never made any difference.\"\n",
    "\n",
    "\"Why should they?\" and Mrs. March put the question with what the girls\n",
    "called her 'Maria Theresa air'.\n",
    "\n",
    "\"You know as well as I that it does make a difference with nearly\n",
    "everyone, so don't ruffle up like a dear, motherly hen, when your\n",
    "chickens get pecked by smarter birds.  The ugly duckling turned out a\n",
    "swan, you know.\"  and Amy smiled without bitterness, for she possessed\n",
    "a happy temper and hopeful spirit.\n",
    "\n",
    "Mrs. March laughed, and smoothed down her maternal pride as she asked,\n",
    "\"Well, my swan, what is your plan?\"\n",
    "\n",
    "\"I should like to ask the girls out to lunch next week, to take them\n",
    "for a drive to the places they want to see, a row on the river,\n",
    "perhaps, and make a little artistic fete for them.\"\n",
    "\n",
    "\"That looks feasible.  What do you want for lunch?  Cake, sandwiches,\n",
    "fruit, and coffee will be all that is necessary, I suppose?\"\n",
    "\n",
    "\"Oh, dear, no!  We must have cold tongue and chicken, French chocolate\n",
    "and ice cream, besides.  The girls are used to such things, and I want\n",
    "my lunch to be proper and elegant, though I do work for my living.\"\n",
    "\n",
    "\"How many young ladies are there?\" asked her mother, beginning to look\n",
    "sober.\n",
    "\n",
    "\"Twelve or fourteen in the class, but I dare say they won't all come.\"\n",
    "\n",
    "\"Bless me, child, you will have to charter an omnibus to carry them\n",
    "about.\"\n",
    "\n",
    "\"Why, Mother, how can you think of such a thing?  Not more than six or\n",
    "eight will probably come, so I shall hire a beach wagon and borrow Mr.\n",
    "Laurence's cherry-bounce.\" (Hannah's pronunciation of char-a-banc.)\n",
    "\n",
    "\"All of this will be expensive, Amy.\"\n",
    "\n",
    "\"Not very.  I've calculated the cost, and I'll pay for it myself.\"\n",
    "\n",
    "\"Don't you think, dear, that as these girls are used to such things,\n",
    "and the best we can do will be nothing new, that some simpler plan\n",
    "would be pleasanter to them, as a change if nothing more, and much\n",
    "better for us than buying or borrowing what we don't need, and\n",
    "attempting a style not in keeping with our circumstances?\"\n",
    "\n",
    "\"If I can't have it as I like, I don't care to have it at all. I know\n",
    "that I can carry it out perfectly well, if you and the girls will help\n",
    "a little, and I don't see why I can't if I'm willing to pay for it,\"\n",
    "said Amy, with the decision which opposition was apt to change into\n",
    "obstinacy.\n",
    "\n",
    "Mrs. March knew that experience was an excellent teacher, and when it\n",
    "was possible she left her children to learn alone the lessons which she\n",
    "would gladly have made easier, if they had not objected to taking\n",
    "advice as much as they did salts and senna.\n",
    "\n",
    "\"Very well, Amy, if your heart is set upon it, and you see your way\n",
    "through without too great an outlay of money, time, and temper, I'll\n",
    "say no more.  Talk it over with the girls, and whichever way you\n",
    "decide, I'll do my best to help you.\"\n",
    "\n",
    "\"Thanks, Mother, you are always so kind.\" and away went Amy to lay her\n",
    "plan before her sisters.\n",
    "\n",
    "Meg agreed at once, and promised her aid, gladly offering anything she\n",
    "possessed, from her little house itself to her very best saltspoons.\n",
    "But Jo frowned upon the whole project and would have nothing to do with\n",
    "it at first.\n",
    "\n",
    "\"Why in the world should you spend your money, worry your family, and\n",
    "turn the house upside down for a parcel of girls who don't care a\n",
    "sixpence for you?  I thought you had too much pride and sense to\n",
    "truckle to any mortal woman just because she wears French boots and\n",
    "rides in a coupe,\" said Jo, who, being called from the tragic climax of\n",
    "her novel, was not in the best mood for social enterprises.\n",
    "\n",
    "\"I don't truckle, and I hate being patronized as much as you do!\"\n",
    "returned Amy indignantly, for the two still jangled when such questions\n",
    "arose. \"The girls do care for me, and I for them, and there's a great\n",
    "deal of kindness and sense and talent among them, in spite of what you\n",
    "call fashionable nonsense.  You don't care to make people like you, to\n",
    "go into good society, and cultivate your manners and tastes.  I do, and\n",
    "I mean to make the most of every chance that comes.  You can go through\n",
    "the world with your elbows out and your nose in the air, and call it\n",
    "independence, if you like.  That's not my way.\"\n",
    "\n",
    "When Amy had whetted her tongue and freed her mind she usually got the\n",
    "best of it, for she seldom failed to have common sense on her side,\n",
    "while Jo carried her love of liberty and hate of conventionalities to\n",
    "such an unlimited extent that she naturally found herself worsted in an\n",
    "argument.  Amy's definition of Jo's idea of independence was such a\n",
    "good hit that both burst out laughing, and the discussion took a more\n",
    "amiable turn.  Much against her will, Jo at length consented to\n",
    "sacrifice a day to Mrs. Grundy, and help her sister through what she\n",
    "regarded as 'a nonsensical business'.\n",
    "\n",
    "The invitations were sent, nearly all accepted, and the following\n",
    "Monday was set apart for the grand event.  Hannah was out of humor\n",
    "because her week's work was deranged, and prophesied that \"ef the\n",
    "washin' and ironin' warn't done reg'lar, nothin' would go well\n",
    "anywheres\".  This hitch in the mainspring of the domestic machinery had\n",
    "a bad effect upon the whole concern, but Amy's motto was 'Nil\n",
    "desperandum', and having made up her mind what to do, she proceeded to\n",
    "do it in spite of all obstacles.  To begin with, Hannah's cooking\n",
    "didn't turn out well.  The chicken was tough, the tongue too salty, and\n",
    "the chocolate wouldn't froth properly.  Then the cake and ice cost more\n",
    "than Amy expected, so did the wagon, and various other expenses, which\n",
    "seemed trifling at the outset, counted up rather alarmingly afterward.\n",
    "Beth got a cold and took to her bed.  Meg had an unusual number of\n",
    "callers to keep her at home, and Jo was in such a divided state of mind\n",
    "that her breakages, accidents, and mistakes were uncommonly numerous,\n",
    "serious, and trying.\n",
    "\n",
    "If it was not fair on Monday, the young ladies were to come on Tuesday,\n",
    "an arrangement which aggravated Jo and Hannah to the last degree.  On\n",
    "Monday morning the weather was in that undecided state which is more\n",
    "exasperating than a steady pour.  It drizzled a little, shone a little,\n",
    "blew a little, and didn't make up its mind till it was too late for\n",
    "anyone else to make up theirs.  Amy was up at dawn, hustling people out\n",
    "of their beds and through their breakfasts, that the house might be got\n",
    "in order.  The parlor struck her as looking uncommonly shabby, but\n",
    "without stopping to sigh for what she had not, she skillfully made the\n",
    "best of what she had, arranging chairs over the worn places in the\n",
    "carpet, covering stains on the walls with homemade statuary, which gave\n",
    "an artistic air to the room, as did the lovely vases of flowers Jo\n",
    "scattered about.\n",
    "\n",
    "The lunch looked charming, and as she surveyed it, she sincerely hoped\n",
    "it would taste well, and that the borrowed glass, china, and silver\n",
    "would get safely home again.  The carriages were promised, Meg and\n",
    "Mother were all ready to do the honors, Beth was able to help Hannah\n",
    "behind the scenes, Jo had engaged to be as lively and amiable as an\n",
    "absent mind, and aching head, and a very decided disapproval of\n",
    "everybody and everything would allow, and as she wearily dressed, Amy\n",
    "cheered herself with anticipations of the happy moment when, lunch\n",
    "safely over, she should drive away with her friends for an afternoon of\n",
    "artistic delights, for the 'cherry bounce' and the broken bridge were\n",
    "her strong points.\n",
    "\n",
    "Then came the hours of suspense, during which she vibrated from parlor\n",
    "to porch, while public opinion varied like the weathercock.  A smart\n",
    "shower at eleven had evidently quenched the enthusiasm of the young\n",
    "ladies who were to arrive at twelve, for nobody came, and at two the\n",
    "exhausted family sat down in a blaze of sunshine to consume the\n",
    "perishable portions of the feast, that nothing might be lost.\n",
    "\n",
    "\"No doubt about the weather today, they will certainly come, so we must\n",
    "fly round and be ready for them,\" said Amy, as the sun woke her next\n",
    "morning.  She spoke briskly, but in her secret soul she wished she had\n",
    "said nothing about Tuesday, for her interest like her cake was getting\n",
    "a little stale.\n",
    "\n",
    "\"I can't get any lobsters, so you will have to do without salad today,\"\n",
    "said Mr. March, coming in half an hour later, with an expression of\n",
    "placid despair.\n",
    "\n",
    "\"Use the chicken then, the toughness won't matter in a salad,\" advised\n",
    "his wife.\n",
    "\n",
    "\"Hannah left it on the kitchen table a minute, and the kittens got at\n",
    "it.  I'm very sorry, Amy,\" added Beth, who was still a patroness of\n",
    "cats.\n",
    "\n",
    "\"Then I must have a lobster, for tongue alone won't do,\" said Amy\n",
    "decidedly.\n",
    "\n",
    "\"Shall I rush into town and demand one?\" asked Jo, with the magnanimity\n",
    "of a martyr.\n",
    "\n",
    "\"You'd come bringing it home under your arm without any paper, just to\n",
    "try me.  I'll go myself,\" answered Amy, whose temper was beginning to\n",
    "fail.\n",
    "\n",
    "Shrouded in a thick veil and armed with a genteel traveling basket, she\n",
    "departed, feeling that a cool drive would soothe her ruffled spirit and\n",
    "fit her for the labors of the day.  After some delay, the object of her\n",
    "desire was procured, likewise a bottle of dressing to prevent further\n",
    "loss of time at home, and off she drove again, well pleased with her\n",
    "own forethought.\n",
    "\n",
    "As the omnibus contained only one other passenger, a sleepy old lady,\n",
    "Amy pocketed her veil and beguiled the tedium of the way by trying to\n",
    "find out where all her money had gone to.  So busy was she with her\n",
    "card full of refractory figures that she did not observe a newcomer,\n",
    "who entered without stopping the vehicle, till a masculine voice said,\n",
    "\"Good morning, Miss March,\" and, looking up, she beheld one of Laurie's\n",
    "most elegant college friends.  Fervently hoping that he would get out\n",
    "before she did, Amy utterly ignored the basket at her feet, and\n",
    "congratulating herself that she had on her new traveling dress,\n",
    "returned the young man's greeting with her usual suavity and spirit.\n",
    "\n",
    "They got on excellently, for Amy's chief care was soon set at rest by\n",
    "learning that the gentleman would leave first, and she was chatting\n",
    "away in a peculiarly lofty strain, when the old lady got out. In\n",
    "stumbling to the door, she upset the basket, and--oh horror!--the\n",
    "lobster, in all its vulgar size and brilliancy, was revealed to the\n",
    "highborn eyes of a Tudor!\n",
    "\n",
    "\"By Jove, she's forgotten her dinner!\" cried the unconscious youth,\n",
    "poking the scarlet monster into its place with his cane, and preparing\n",
    "to hand out the basket after the old lady.\n",
    "\n",
    "\"Please don't--it's--it's mine,\" murmured Amy, with a face nearly as\n",
    "red as her fish.\n",
    "\n",
    "\"Oh, really, I beg pardon.  It's an uncommonly fine one, isn't it?\"\n",
    "said Tudor, with great presence of mind, and an air of sober interest\n",
    "that did credit to his breeding.\n",
    "\n",
    "Amy recovered herself in a breath, set her basket boldly on the seat,\n",
    "and said, laughing, \"Don't you wish you were to have some of the salad\n",
    "he's going to make, and to see the charming young ladies who are to eat\n",
    "it?\"\n",
    "\n",
    "Now that was tact, for two of the ruling foibles of the masculine mind\n",
    "were touched.  The lobster was instantly surrounded by a halo of\n",
    "pleasing reminiscences, and curiosity about 'the charming young ladies'\n",
    "diverted his mind from the comical mishap.\n",
    "\n",
    "\"I suppose he'll laugh and joke over it with Laurie, but I shan't see\n",
    "them, that's a comfort,\" thought Amy, as Tudor bowed and departed.\n",
    "\n",
    "She did not mention this meeting at home (though she discovered that,\n",
    "thanks to the upset, her new dress was much damaged by the rivulets of\n",
    "dressing that meandered down the skirt), but went through with the\n",
    "preparations which now seemed more irksome than before, and at twelve\n",
    "o'clock all was ready again.  Feeling that the neighbors were\n",
    "interested in her movements, she wished to efface the memory of\n",
    "yesterday's failure by a grand success today, so she ordered the\n",
    "'cherry bounce', and drove away in state to meet and escort her guests\n",
    "to the banquet.\n",
    "\n",
    "\"There's the rumble, they're coming!  I'll go onto the porch and meet\n",
    "them.  It looks hospitable, and I want the poor child to have a good\n",
    "time after all her trouble,\" said Mrs. March, suiting the action to the\n",
    "word.  But after one glance, she retired, with an indescribable\n",
    "expression, for looking quite lost in the big carriage, sat Amy and one\n",
    "young lady.\n",
    "\n",
    "\"Run, Beth, and help Hannah clear half the things off the table. It\n",
    "will be too absurd to put a luncheon for twelve before a single girl,\"\n",
    "cried Jo, hurrying away to the lower regions, too excited to stop even\n",
    "for a laugh.\n",
    "\n",
    "In came Amy, quite calm and delightfully cordial to the one guest who\n",
    "had kept her promise.  The rest of the family, being of a dramatic\n",
    "turn, played their parts equally well, and Miss Eliott found them a\n",
    "most hilarious set, for it was impossible to control entirely the\n",
    "merriment which possessed them.  The remodeled lunch being gaily\n",
    "partaken of, the studio and garden visited, and art discussed with\n",
    "enthusiasm, Amy ordered a buggy (alas for the elegant cherry-bounce),\n",
    "and drove her friend quietly about the neighborhood till sunset, when\n",
    "'the party went out'.\n",
    "\n",
    "As she came walking in, looking very tired but as composed as ever, she\n",
    "observed that every vestige of the unfortunate fete had disappeared,\n",
    "except a suspicious pucker about the corners of Jo's mouth.\n",
    "\n",
    "\"You've had a loverly afternoon for your drive, dear,\" said her mother,\n",
    "as respectfully as if the whole twelve had come.\n",
    "\n",
    "\"Miss Eliott is a very sweet girl, and seemed to enjoy herself, I\n",
    "thought,\" observed Beth, with unusual warmth.\n",
    "\n",
    "\"Could you spare me some of your cake?  I really need some, I have so\n",
    "much company, and I can't make such delicious stuff as yours,\" asked\n",
    "Meg soberly.\n",
    "\n",
    "\"Take it all.  I'm the only one here who likes sweet things, and it\n",
    "will mold before I can dispose of it,\" answered Amy, thinking with a\n",
    "sigh of the generous store she had laid in for such an end as this.\n",
    "\n",
    "\"It's a pity Laurie isn't here to help us,\" began Jo, as they sat down\n",
    "to ice cream and salad for the second time in two days.\n",
    "\n",
    "A warning look from her mother checked any further remarks, and the\n",
    "whole family ate in heroic silence, till Mr. March mildly observed,\n",
    "\"salad was one of the favorite dishes of the ancients, and Evelyn...\"\n",
    "Here a general explosion of laughter cut short the 'history of salads',\n",
    "to the great surprise of the learned gentleman.\n",
    "\n",
    "\"Bundle everything into a basket and send it to the Hummels.  Germans\n",
    "like messes.  I'm sick of the sight of this, and there's no reason you\n",
    "should all die of a surfeit because I've been a fool,\" cried Amy,\n",
    "wiping her eyes.\n",
    "\n",
    "\"I thought I should have died when I saw you two girls rattling about\n",
    "in the what-you-call-it, like two little kernels in a very big\n",
    "nutshell, and Mother waiting in state to receive the throng,\" sighed\n",
    "Jo, quite spent with laughter.\n",
    "\n",
    "\"I'm very sorry you were disappointed, dear, but we all did our best to\n",
    "satisfy you,\" said Mrs. March, in a tone full of motherly regret.\n",
    "\n",
    "\"I am satisfied.  I've done what I undertook, and it's not my fault\n",
    "that it failed.  I comfort myself with that,\" said Amy with a little\n",
    "quiver in her voice.  \"I thank you all very much for helping me, and\n",
    "I'll thank you still more if you won't allude to it for a month, at\n",
    "least.\"\n",
    "\n",
    "No one did for several months, but the word 'fete' always produced a\n",
    "general smile, and Laurie's birthday gift to Amy was a tiny coral\n",
    "lobster in the shape of a charm for her watch guard.\n",
    "'''"
   ]
  },
  {
   "cell_type": "code",
   "execution_count": null,
   "metadata": {
    "collapsed": true
   },
   "outputs": [],
   "source": []
  },
  {
   "cell_type": "code",
   "execution_count": null,
   "metadata": {
    "collapsed": true
   },
   "outputs": [],
   "source": []
  },
  {
   "cell_type": "code",
   "execution_count": 127,
   "metadata": {
    "collapsed": false
   },
   "outputs": [
    {
     "name": "stdout",
     "output_type": "stream",
     "text": [
      "clear_text: ﻿The Project Gutenberg EBook\n",
      "encrypted: ﻿jut hwimtfj rsjtextwr txiiz \n",
      "decrypted: ﻿the proxeft gctenberg eboov \n"
     ]
    }
   ],
   "source": [
    "from random import shuffle\n",
    "\n",
    "def get_ordered_values_list(d):\n",
    "    ''' accepts a dictionary of and returns a list of keys, sorted by\n",
    "    the corresponding value in dict (ie. list[0] is the key of the highest value) '''\n",
    "    # sort the values\n",
    "    dvalues = list(d.values())\n",
    "    dvalues.sort(reverse=True)\n",
    "    # extract the keys (letters) and add 1 letter each iteration\n",
    "    keys = []\n",
    "    for v in dvalues:\n",
    "        keys += [key for key, val in d.items() if val == v ]\n",
    "    return keys\n",
    "\n",
    "def get_probability_dataset():\n",
    "    ''' a given dataset of a-z probabilities '''\n",
    "    return {\n",
    "        'a': 8.167, 'b': 1.492, 'c': 2.782, 'd': 4.253, 'e': 12.702,\n",
    "        'f': 2.228, 'g': 2.015, 'h': 6.094, 'i': 6.966, 'j': 0.153,\n",
    "        'k': 0.772, 'l': 4.025, 'm': 2.406, 'n': 6.749, 'o': 7.507,\n",
    "        'p': 1.929, 'q': 0.095, 'r': 5.987, 's': 6.327, 't': 9.056,\n",
    "        'u': 2.758, 'v': 0.978, 'w': 2.360, 'x': 0.150, 'y': 1.974, 'z': 0.074}\n",
    "\n",
    "def get_enc_key():\n",
    "    '''  returns a random ordered list of all small letters a-z '''\n",
    "    abc_list =  [ chr(97 + i) for i in range(26)]\n",
    "    k = abc_list\n",
    "    shuffle(k)\n",
    "    return k\n",
    "\n",
    "def encrypt(clear_text, key):\n",
    "    '''  replace each letter with the corresponding index in the key.('a' replaced by key[0]) '''\n",
    "    cipher = ''\n",
    "    for letter in clear_text.lower():\n",
    "        if letter in key:\n",
    "            pos = ord(letter)-97\n",
    "            enc_letter = key[pos]\n",
    "            #print (letter, pos, enc_letter)\n",
    "            cipher += enc_letter\n",
    "        else:\n",
    "            cipher += letter\n",
    "    return cipher\n",
    "\n",
    "def decrypt(encrypted_text, key):\n",
    "    '''  count letter appearances in encrypted-text and replace each letter with the matching probability '''\n",
    "    # loads the dataset of probabilities \n",
    "    p = get_probability_dataset()\n",
    "    output = ''\n",
    "    \n",
    "    # init a dict to count letters appearnces in the encrypted text\n",
    "    counts = { letter:0 for letter in key }\n",
    "    for letter in encrypted_text.lower():\n",
    "        if letter in key:\n",
    "            counts[letter] += 1\n",
    "\n",
    "    # sort both lists such as p_list[0] is the most probable letter (by dataset)\n",
    "    # and c_list[0] is the letter with the most count \n",
    "    p_list = get_ordered_values_list(p)\n",
    "    c_list = get_ordered_values_list(counts)\n",
    "\n",
    "    # build the output string by switch known english letters and preserve the rest\n",
    "    for letter in enc_text:\n",
    "        if letter in c_list:\n",
    "            # append letter with same index from the probability list\n",
    "            output += p_list[c_list.index(letter)]\n",
    "        else:\n",
    "            output += letter\n",
    "    return output\n",
    "\n",
    "dec_text=''\n",
    "enc_text=''\n",
    "k = ''\n",
    " \n",
    "#clear_text = 'hello'\n",
    "print ('clear_text: {}'.format(clear_text)[:40])\n",
    "\n",
    "# encryption\n",
    "k = get_enc_key()\n",
    "enc_text = encrypt(clear_text, k)\n",
    "#print ('clear: ', clear_text)\n",
    "print ('encrypted: {}'.format(enc_text)[:40])\n",
    "\n",
    "# decryption\n",
    "#letters = get_ordered_letters_list(p)\n",
    "#print ('letters: ', letters, end = ' ')\n",
    "dec_text = decrypt(enc_text, k)\n",
    "print ('decrypted: {}'.format(dec_text)[:40])\n"
   ]
  },
  {
   "cell_type": "code",
   "execution_count": null,
   "metadata": {
    "collapsed": true
   },
   "outputs": [],
   "source": []
  },
  {
   "cell_type": "code",
   "execution_count": null,
   "metadata": {
    "collapsed": true
   },
   "outputs": [],
   "source": []
  },
  {
   "cell_type": "code",
   "execution_count": null,
   "metadata": {
    "collapsed": true
   },
   "outputs": [],
   "source": [
    "clear_text: ﻿The Project Gutenberg eBook\n",
    "encrypted: ﻿jtq simxqoj dyjqleqid qemmf,\n",
    "decrypted: ﻿tre phojemt yctenbehy ebook,\n"
   ]
  },
  {
   "cell_type": "code",
   "execution_count": null,
   "metadata": {
    "collapsed": true
   },
   "outputs": [],
   "source": []
  },
  {
   "cell_type": "code",
   "execution_count": null,
   "metadata": {
    "collapsed": true
   },
   "outputs": [],
   "source": []
  },
  {
   "cell_type": "code",
   "execution_count": null,
   "metadata": {
    "collapsed": true
   },
   "outputs": [],
   "source": []
  },
  {
   "cell_type": "code",
   "execution_count": 100,
   "metadata": {
    "collapsed": false
   },
   "outputs": [
    {
     "data": {
      "text/plain": [
       "6"
      ]
     },
     "execution_count": 100,
     "metadata": {},
     "output_type": "execute_result"
    }
   ],
   "source": [
    "a"
   ]
  },
  {
   "cell_type": "code",
   "execution_count": 113,
   "metadata": {
    "collapsed": true
   },
   "outputs": [],
   "source": [
    "clear_text = 'hello'"
   ]
  },
  {
   "cell_type": "code",
   "execution_count": null,
   "metadata": {
    "collapsed": true
   },
   "outputs": [],
   "source": []
  },
  {
   "cell_type": "code",
   "execution_count": null,
   "metadata": {
    "collapsed": true
   },
   "outputs": [],
   "source": []
  },
  {
   "cell_type": "code",
   "execution_count": 95,
   "metadata": {
    "collapsed": true
   },
   "outputs": [],
   "source": [
    "import os\n"
   ]
  },
  {
   "cell_type": "code",
   "execution_count": 106,
   "metadata": {
    "collapsed": false
   },
   "outputs": [
    {
     "data": {
      "text/plain": [
       "['74-0.txt',\n",
       " '1260.txt.utf-8',\n",
       " 'enc-dec.ipynb',\n",
       " '219-0.txt',\n",
       " '.ipynb_checkpoints']"
      ]
     },
     "execution_count": 106,
     "metadata": {},
     "output_type": "execute_result"
    }
   ],
   "source": [
    "os.listdir('.')"
   ]
  },
  {
   "cell_type": "code",
   "execution_count": null,
   "metadata": {
    "collapsed": true
   },
   "outputs": [],
   "source": []
  },
  {
   "cell_type": "code",
   "execution_count": 116,
   "metadata": {
    "collapsed": false
   },
   "outputs": [],
   "source": [
    "with open(\"1260.txt.utf-8\", \"r\") as f:\n",
    "    clear_text = f.read()"
   ]
  },
  {
   "cell_type": "code",
   "execution_count": null,
   "metadata": {
    "collapsed": true
   },
   "outputs": [],
   "source": []
  },
  {
   "cell_type": "code",
   "execution_count": null,
   "metadata": {
    "collapsed": true
   },
   "outputs": [],
   "source": []
  },
  {
   "cell_type": "code",
   "execution_count": 126,
   "metadata": {
    "collapsed": false
   },
   "outputs": [
    {
     "data": {
      "text/plain": [
       "229878"
      ]
     },
     "execution_count": 126,
     "metadata": {},
     "output_type": "execute_result"
    }
   ],
   "source": [
    "len(clear_text)"
   ]
  },
  {
   "cell_type": "code",
   "execution_count": null,
   "metadata": {
    "collapsed": true
   },
   "outputs": [],
   "source": []
  },
  {
   "cell_type": "code",
   "execution_count": null,
   "metadata": {
    "collapsed": true
   },
   "outputs": [],
   "source": []
  },
  {
   "cell_type": "code",
   "execution_count": null,
   "metadata": {
    "collapsed": true
   },
   "outputs": [],
   "source": []
  },
  {
   "cell_type": "code",
   "execution_count": 119,
   "metadata": {
    "collapsed": true
   },
   "outputs": [],
   "source": [
    "clear_text = clear_text * 10"
   ]
  },
  {
   "cell_type": "code",
   "execution_count": null,
   "metadata": {
    "collapsed": true
   },
   "outputs": [],
   "source": []
  },
  {
   "cell_type": "code",
   "execution_count": null,
   "metadata": {
    "collapsed": true
   },
   "outputs": [],
   "source": []
  },
  {
   "cell_type": "code",
   "execution_count": null,
   "metadata": {
    "collapsed": true
   },
   "outputs": [],
   "source": []
  },
  {
   "cell_type": "code",
   "execution_count": null,
   "metadata": {
    "collapsed": true
   },
   "outputs": [],
   "source": []
  },
  {
   "cell_type": "code",
   "execution_count": 125,
   "metadata": {
    "collapsed": true
   },
   "outputs": [],
   "source": [
    "with open(\"219-0.txt\", \"r\") as f:\n",
    "    clear_text = f.read()"
   ]
  },
  {
   "cell_type": "code",
   "execution_count": null,
   "metadata": {
    "collapsed": true
   },
   "outputs": [],
   "source": []
  },
  {
   "cell_type": "code",
   "execution_count": 122,
   "metadata": {
    "collapsed": false
   },
   "outputs": [],
   "source": [
    "with open(\"74-0.txt\", \"r\") as f:\n",
    "    clear_text = f.read()"
   ]
  },
  {
   "cell_type": "code",
   "execution_count": null,
   "metadata": {
    "collapsed": true
   },
   "outputs": [],
   "source": []
  },
  {
   "cell_type": "code",
   "execution_count": null,
   "metadata": {
    "collapsed": true
   },
   "outputs": [],
   "source": []
  },
  {
   "cell_type": "code",
   "execution_count": null,
   "metadata": {
    "collapsed": true
   },
   "outputs": [],
   "source": []
  },
  {
   "cell_type": "code",
   "execution_count": 99,
   "metadata": {
    "collapsed": true
   },
   "outputs": [],
   "source": [
    "a=6"
   ]
  },
  {
   "cell_type": "code",
   "execution_count": null,
   "metadata": {
    "collapsed": true
   },
   "outputs": [],
   "source": []
  },
  {
   "cell_type": "code",
   "execution_count": null,
   "metadata": {
    "collapsed": true
   },
   "outputs": [],
   "source": []
  },
  {
   "cell_type": "code",
   "execution_count": null,
   "metadata": {
    "collapsed": true
   },
   "outputs": [],
   "source": []
  },
  {
   "cell_type": "code",
   "execution_count": null,
   "metadata": {
    "collapsed": true
   },
   "outputs": [],
   "source": []
  },
  {
   "cell_type": "code",
   "execution_count": null,
   "metadata": {
    "collapsed": true
   },
   "outputs": [],
   "source": []
  },
  {
   "cell_type": "code",
   "execution_count": null,
   "metadata": {
    "collapsed": true
   },
   "outputs": [],
   "source": []
  },
  {
   "cell_type": "code",
   "execution_count": null,
   "metadata": {
    "collapsed": true
   },
   "outputs": [],
   "source": []
  },
  {
   "cell_type": "code",
   "execution_count": null,
   "metadata": {
    "collapsed": true
   },
   "outputs": [],
   "source": []
  },
  {
   "cell_type": "code",
   "execution_count": null,
   "metadata": {
    "collapsed": true
   },
   "outputs": [],
   "source": []
  },
  {
   "cell_type": "code",
   "execution_count": null,
   "metadata": {
    "collapsed": true
   },
   "outputs": [],
   "source": []
  },
  {
   "cell_type": "code",
   "execution_count": 65,
   "metadata": {
    "collapsed": false
   },
   "outputs": [
    {
     "data": {
      "text/plain": [
       "'\\nCHAPTER TWENTY-SIX\\nARTISTIC ATTEMPTS\\nIt takes people a long time to learn the difference between talent and\\ngenius, especially ambitious young men and women.  Amy was learning\\nthis distinction throug'"
      ]
     },
     "execution_count": 65,
     "metadata": {},
     "output_type": "execute_result"
    }
   ],
   "source": [
    "clear_text[:200]"
   ]
  },
  {
   "cell_type": "code",
   "execution_count": 66,
   "metadata": {
    "collapsed": false
   },
   "outputs": [
    {
     "data": {
      "text/plain": [
       "'\\nunekjbv jxbcji-gqd\\nevjqgjqu ejjbhkjg\\nqj jeabg kbokmb e mocy jqhb jo mbevc jnb pqssbvbcub tbjxbbc jembcj ecp\\nybcqfg, bgkbuqemmi ehtqjqofg iofcy hbc ecp xohbc.  ehi xeg mbevcqcy\\njnqg pqgjqcujqoc jnvofy'"
      ]
     },
     "execution_count": 66,
     "metadata": {},
     "output_type": "execute_result"
    }
   ],
   "source": [
    "enc_text[:200]"
   ]
  },
  {
   "cell_type": "code",
   "execution_count": 40,
   "metadata": {
    "collapsed": false
   },
   "outputs": [
    {
     "data": {
      "text/plain": [
       "['e',\n",
       " 't',\n",
       " 'a',\n",
       " 'o',\n",
       " 'i',\n",
       " 'n',\n",
       " 's',\n",
       " 'h',\n",
       " 'r',\n",
       " 'd',\n",
       " 'l',\n",
       " 'c',\n",
       " 'u',\n",
       " 'm',\n",
       " 'w',\n",
       " 'f',\n",
       " 'g',\n",
       " 'y',\n",
       " 'p',\n",
       " 'b',\n",
       " 'v',\n",
       " 'k',\n",
       " 'j',\n",
       " 'x',\n",
       " 'q',\n",
       " 'z']"
      ]
     },
     "execution_count": 40,
     "metadata": {},
     "output_type": "execute_result"
    }
   ],
   "source": [
    "letters"
   ]
  },
  {
   "cell_type": "code",
   "execution_count": 84,
   "metadata": {
    "collapsed": false
   },
   "outputs": [
    {
     "data": {
      "text/plain": [
       "'wer'"
      ]
     },
     "execution_count": 84,
     "metadata": {},
     "output_type": "execute_result"
    }
   ],
   "source": [
    "'werrrrrrrrrrrrrrrrrrrrrrr {}'.format(5)[:3]\n",
    "                                  \n"
   ]
  },
  {
   "cell_type": "code",
   "execution_count": null,
   "metadata": {
    "collapsed": true
   },
   "outputs": [],
   "source": []
  },
  {
   "cell_type": "code",
   "execution_count": null,
   "metadata": {
    "collapsed": true
   },
   "outputs": [],
   "source": [
    "def decrypt(encrypted_text, key):\n",
    "    \n",
    "    # loads the dataset of probabilities \n",
    "    p = get_probability_dataset()\n",
    "    output = ''\n",
    "    print (\"encrypted_text: {}\".format(encrypted_text))\n",
    "    \n",
    "    # init a dict to count letters appearnces in the encrypted text\n",
    "    counts = { letter:0 for letter in key }\n",
    "    print(counts)\n",
    "    for letter in encrypted_text.lower():\n",
    "        if letter in key:\n",
    "            counts[letter] += 1\n",
    "    print(counts)\n",
    "\n",
    "    # sort both lists such as p_list[0] is the most probable letter (by dataset)\n",
    "    # and c_list[0] is the letter with the most count \n",
    "    p_list = get_ordered_values_list(p)\n",
    "    c_list = get_ordered_values_list(counts)\n",
    "\n",
    "    # the decryption method is by lookup and build the output string\n",
    "    # by switch known english letters and preserve the other text as is\n",
    "    for letter in enc_text:\n",
    "        if letter in c_list:\n",
    "            # append letter with same index from the probability list\n",
    "            output += p_list[c_list.index(letter)]\n",
    "        else:\n",
    "            output += letter\n",
    "    #print(output)    \n",
    "\n",
    "    \n",
    "    for letter in enc_text:\n",
    "        #output += letter.replace(letter, plist[])\n",
    "        output += letter # TODO : replace lines ##############\n",
    "    \n",
    "    for i, letter in enumerate(l1):\n",
    "        print('switching ', l1[i], '->',  l2[i] )\n",
    "        s = s.replace(l1[i], l2[i])\n",
    "    \n",
    "    \n",
    "    #probs_values_list = list(p.values())\n",
    "    #probs_values_list.sort(reverse=True)\n",
    "\n",
    "    for elem in probs_values_list:\n",
    "        print (elem, '--', probs_values_list.index(elem), End=' ')\n",
    "\n",
    "    my_values_list = list(p.values())\n",
    "    my_values_list.sort(reverse=True)\n",
    "\n",
    "    for i in range (26):\n",
    "        output.replace(my_values_list[i], probs_values_list[i])\n",
    "    return output\n"
   ]
  },
  {
   "cell_type": "code",
   "execution_count": 75,
   "metadata": {
    "collapsed": false
   },
   "outputs": [
    {
     "name": "stdout",
     "output_type": "stream",
     "text": [
      "2\n"
     ]
    }
   ],
   "source": [
    "l1=['1','2','3','4','5']\n",
    "l2=['6','7','8','9','0']\n",
    "s='1122334455'\n",
    "print (l1.index('3'))\n"
   ]
  },
  {
   "cell_type": "code",
   "execution_count": null,
   "metadata": {
    "collapsed": true
   },
   "outputs": [],
   "source": []
  },
  {
   "cell_type": "code",
   "execution_count": null,
   "metadata": {
    "collapsed": true
   },
   "outputs": [],
   "source": []
  },
  {
   "cell_type": "code",
   "execution_count": null,
   "metadata": {
    "collapsed": true
   },
   "outputs": [],
   "source": []
  },
  {
   "cell_type": "code",
   "execution_count": 60,
   "metadata": {
    "collapsed": true
   },
   "outputs": [],
   "source": [
    "for i, letter in enumerate(l1):\n",
    "    s = s.replace(l1[i], l2[i])\n",
    "    "
   ]
  },
  {
   "cell_type": "code",
   "execution_count": 81,
   "metadata": {
    "collapsed": false
   },
   "outputs": [
    {
     "name": "stdout",
     "output_type": "stream",
     "text": [
      "176 \n",
      "ttz\n",
      "\n",
      "45\n",
      "\n"
     ]
    }
   ],
   "source": [
    "text = '''j76 \n",
    "mma\n",
    "\n",
    "45\n",
    "'''\n",
    "c_list = ['j', 'm', 'a']\n",
    "p_list = ['1', 't', 'z']\n",
    "out = ''\n",
    "for letter in text:\n",
    "    if letter in c_list:\n",
    "        # append letter with same index from the probability list\n",
    "        out += p_list[c_list.index(letter)]\n",
    "    else:\n",
    "        out += letter\n",
    "print(out)    "
   ]
  },
  {
   "cell_type": "code",
   "execution_count": null,
   "metadata": {
    "collapsed": true
   },
   "outputs": [],
   "source": []
  },
  {
   "cell_type": "code",
   "execution_count": null,
   "metadata": {
    "collapsed": true
   },
   "outputs": [],
   "source": []
  },
  {
   "cell_type": "code",
   "execution_count": null,
   "metadata": {
    "collapsed": true
   },
   "outputs": [],
   "source": []
  },
  {
   "cell_type": "code",
   "execution_count": null,
   "metadata": {
    "collapsed": true
   },
   "outputs": [],
   "source": []
  },
  {
   "cell_type": "code",
   "execution_count": null,
   "metadata": {
    "collapsed": true
   },
   "outputs": [],
   "source": []
  },
  {
   "cell_type": "code",
   "execution_count": null,
   "metadata": {
    "collapsed": true
   },
   "outputs": [],
   "source": []
  },
  {
   "cell_type": "code",
   "execution_count": 71,
   "metadata": {
    "collapsed": false
   },
   "outputs": [
    {
     "data": {
      "text/plain": [
       "'k'"
      ]
     },
     "execution_count": 71,
     "metadata": {},
     "output_type": "execute_result"
    }
   ],
   "source": [
    "output = ''\n",
    "letter = ''\n",
    "output += letter.replace(letter, 'k')\n",
    "output"
   ]
  },
  {
   "cell_type": "code",
   "execution_count": 72,
   "metadata": {
    "collapsed": false
   },
   "outputs": [
    {
     "name": "stdout",
     "output_type": "stream",
     "text": [
      "0 5\n",
      "1 6\n",
      "2 7\n",
      "3 8\n"
     ]
    }
   ],
   "source": [
    "l1 = [5,6,7,8]\n",
    "\n",
    "for i, letter in enumerate(l1):\n",
    "    print (i, letter)\n",
    "    #s = s.replace(l1[i], l2[i])\n",
    "    "
   ]
  },
  {
   "cell_type": "code",
   "execution_count": null,
   "metadata": {
    "collapsed": true
   },
   "outputs": [],
   "source": []
  },
  {
   "cell_type": "code",
   "execution_count": null,
   "metadata": {
    "collapsed": true
   },
   "outputs": [],
   "source": []
  },
  {
   "cell_type": "code",
   "execution_count": 61,
   "metadata": {
    "collapsed": false
   },
   "outputs": [
    {
     "data": {
      "text/plain": [
       "'XX77889900'"
      ]
     },
     "execution_count": 61,
     "metadata": {},
     "output_type": "execute_result"
    }
   ],
   "source": [
    "s"
   ]
  },
  {
   "cell_type": "code",
   "execution_count": null,
   "metadata": {
    "collapsed": true
   },
   "outputs": [],
   "source": []
  },
  {
   "cell_type": "code",
   "execution_count": null,
   "metadata": {
    "collapsed": true
   },
   "outputs": [],
   "source": []
  },
  {
   "cell_type": "code",
   "execution_count": 56,
   "metadata": {
    "collapsed": false
   },
   "outputs": [],
   "source": [
    "s = s.replace(l1[0], l2[0])"
   ]
  },
  {
   "cell_type": "code",
   "execution_count": 57,
   "metadata": {
    "collapsed": false
   },
   "outputs": [
    {
     "data": {
      "text/plain": [
       "'XX22334455'"
      ]
     },
     "execution_count": 57,
     "metadata": {},
     "output_type": "execute_result"
    }
   ],
   "source": [
    "s"
   ]
  },
  {
   "cell_type": "code",
   "execution_count": null,
   "metadata": {
    "collapsed": true
   },
   "outputs": [],
   "source": []
  },
  {
   "cell_type": "code",
   "execution_count": null,
   "metadata": {
    "collapsed": true
   },
   "outputs": [],
   "source": []
  },
  {
   "cell_type": "code",
   "execution_count": null,
   "metadata": {
    "collapsed": true
   },
   "outputs": [],
   "source": []
  },
  {
   "cell_type": "code",
   "execution_count": null,
   "metadata": {
    "collapsed": true
   },
   "outputs": [],
   "source": []
  },
  {
   "cell_type": "code",
   "execution_count": null,
   "metadata": {
    "collapsed": true
   },
   "outputs": [],
   "source": []
  },
  {
   "cell_type": "code",
   "execution_count": 50,
   "metadata": {
    "collapsed": false
   },
   "outputs": [
    {
     "data": {
      "text/plain": [
       "'1122334455'"
      ]
     },
     "execution_count": 50,
     "metadata": {},
     "output_type": "execute_result"
    }
   ],
   "source": [
    "s"
   ]
  },
  {
   "cell_type": "code",
   "execution_count": null,
   "metadata": {
    "collapsed": true
   },
   "outputs": [],
   "source": []
  },
  {
   "cell_type": "code",
   "execution_count": null,
   "metadata": {
    "collapsed": true
   },
   "outputs": [],
   "source": []
  },
  {
   "cell_type": "markdown",
   "metadata": {},
   "source": [
    "s "
   ]
  },
  {
   "cell_type": "code",
   "execution_count": null,
   "metadata": {
    "collapsed": true
   },
   "outputs": [],
   "source": []
  },
  {
   "cell_type": "code",
   "execution_count": null,
   "metadata": {
    "collapsed": true
   },
   "outputs": [],
   "source": []
  },
  {
   "cell_type": "code",
   "execution_count": null,
   "metadata": {
    "collapsed": true
   },
   "outputs": [],
   "source": []
  },
  {
   "cell_type": "code",
   "execution_count": 7,
   "metadata": {
    "collapsed": false
   },
   "outputs": [
    {
     "name": "stdout",
     "output_type": "stream",
     "text": [
      "bkvvi\n"
     ]
    }
   ],
   "source": [
    "cipher = encrypt(t, k)\n",
    "print (cipher)\n",
    "\n",
    "#clear = decrypt(cipher, k)\n",
    "#print (clear)\n",
    "\n",
    "#print (t, k)\n"
   ]
  },
  {
   "cell_type": "code",
   "execution_count": null,
   "metadata": {
    "collapsed": true
   },
   "outputs": [],
   "source": []
  },
  {
   "cell_type": "code",
   "execution_count": null,
   "metadata": {
    "collapsed": true
   },
   "outputs": [],
   "source": []
  }
 ],
 "metadata": {
  "kernelspec": {
   "display_name": "Python 3",
   "language": "python",
   "name": "python3"
  },
  "language_info": {
   "codemirror_mode": {
    "name": "ipython",
    "version": 3
   },
   "file_extension": ".py",
   "mimetype": "text/x-python",
   "name": "python",
   "nbconvert_exporter": "python",
   "pygments_lexer": "ipython3",
   "version": "3.4.3"
  }
 },
 "nbformat": 4,
 "nbformat_minor": 0
}
